{
  "nbformat": 4,
  "nbformat_minor": 0,
  "metadata": {
    "colab": {
      "provenance": []
    },
    "kernelspec": {
      "name": "python3",
      "display_name": "Python 3"
    },
    "language_info": {
      "name": "python"
    }
  },
  "cells": [
    {
      "cell_type": "code",
      "execution_count": null,
      "metadata": {
        "id": "mGD-73M35Vwa"
      },
      "outputs": [],
      "source": [
        "# [ok] verificar numeros\n",
        "# [ok] mostrar numeros\n",
        "# [ok] entre 1000 a 2000 INCLUSIVE\n",
        "# [ok] quando divididos por 11, precisam ter resto igual a 2\n",
        "\n",
        "for numero in range(1000, 2001):\n",
        "    if numero % 11 == 2:\n",
        "        print(numero)"
      ]
    },
    {
      "cell_type": "code",
      "source": [
        "# [ok] ler 5 numeros\n",
        "# [ok] fazer a soma dos numeros\n",
        "# [ok] calcular a media\n",
        "\n",
        "soma = 0\n",
        "for n in range(5):\n",
        "  numero = float(input(f\"digite o {n+1} número: \"))\n",
        "  soma += numero\n",
        "  media = soma/5\n",
        "\n",
        "  print(f\"A soma dos números é: {soma}\")\n",
        "  print(f\"A media dos nuemros é: {media}\")"
      ],
      "metadata": {
        "id": "C9IB_mwd5ZFf"
      },
      "execution_count": null,
      "outputs": []
    },
    {
      "cell_type": "code",
      "source": [
        "# [ok] receber um numero\n",
        "# [ok] usar lacos de repeticao\n",
        "# [ok] calcule a tabuada desse numero\n",
        "# [ok] mostre a tabuada desse numero\n",
        "\n",
        "numero = int(input(\"Digite um número da tabuada: \"))\n",
        "print(f\"****** Tabuada do numero {numero} ********\")\n",
        "\n",
        "for contador in range(1,11):\n",
        "  resultado = numero * contador\n",
        "  print(f\"{numero} X {contador} = {resultado}\")"
      ],
      "metadata": {
        "id": "THlygaBE5b0k"
      },
      "execution_count": null,
      "outputs": []
    },
    {
      "cell_type": "code",
      "source": [
        "# [ok] mostrar as tabuadas\n",
        "# [ok] de 1 a 10\n",
        "# [ok] usando laços de repetição.\n",
        "\n",
        "for i in range(1, 11):\n",
        "    for j in range(1, 11):\n",
        "        resultado = i * j\n",
        "    print(f\"{i} X {j} = {i*j}\")"
      ],
      "metadata": {
        "id": "Bgtws1Wu5fo1"
      },
      "execution_count": null,
      "outputs": []
    },
    {
      "cell_type": "code",
      "source": [
        "# [ok] imprima na tela os números de 1 a 20\n",
        "# [ok] mostrar um embaixo do outro\n",
        "# mostar um do lado do outro\n",
        "\n",
        "for i in range(1, 21):\n",
        "    print(i)\n",
        "\n",
        "print(list(range(1,21)))"
      ],
      "metadata": {
        "id": "yM7L_qO45kEK"
      },
      "execution_count": null,
      "outputs": []
    }
  ]
}