{
  "nbformat": 4,
  "nbformat_minor": 0,
  "metadata": {
    "colab": {
      "provenance": []
    },
    "kernelspec": {
      "name": "python3",
      "display_name": "Python 3"
    },
    "language_info": {
      "name": "python"
    }
  },
  "cells": [
    {
      "cell_type": "code",
      "execution_count": null,
      "metadata": {
        "id": "ZiGItF1W3yGc"
      },
      "outputs": [],
      "source": [
        "#Faça um programa que leia 5 números e informe o maior número.\n",
        "\n",
        "maiornumero = 0\n",
        "for contador in range(5):\n",
        "  numero = int(input(\"Digite um número: \"))\n",
        "  if numero > maiornumero:\n",
        "    maiornumero = numero\n",
        "\n",
        "  print(maiornumero)"
      ]
    },
    {
      "cell_type": "code",
      "source": [
        "#Faça um programa que verifique e mostre os números entre 1.000 e 2.000\n",
        "#(inclusive) que, quando divididos por 11 produzam resto igual a 2\n",
        "\n",
        "for numero in range(1000, 2001):\n",
        "    if numero % 11 == 2:\n",
        "        print(numero)"
      ],
      "metadata": {
        "id": "8oviEHcj32Jt"
      },
      "execution_count": null,
      "outputs": []
    },
    {
      "cell_type": "code",
      "source": [
        "#Faça um programa que leia 5 números e informe a soma e a média dos números\n",
        "\n",
        "soma = 0\n",
        "for n in range(5):\n",
        "  numero = float(input(f\"digite o {n+1} número: \"))\n",
        "  soma += numero\n",
        "  media = soma/5\n",
        "\n",
        "  print(f\"A soma dos números é:{soma} e a média é {media}\")\n"
      ],
      "metadata": {
        "id": "jgNr6PqZ35At"
      },
      "execution_count": null,
      "outputs": []
    },
    {
      "cell_type": "code",
      "source": [
        "#Faça um programa que receba um número e usando laços de repetição\n",
        "#calcule e mostre a tabuada desse número.\n",
        "\n",
        "numero = int(input(\"Digite um número da tabuada: \"))\n",
        "for tabuada in range(1, 10):\n",
        "    resultado = numero * tabuada\n",
        "    print(f\"{numero} X {tabuada} = {resultado}\")"
      ],
      "metadata": {
        "id": "O1okvhXv37nu"
      },
      "execution_count": null,
      "outputs": []
    },
    {
      "cell_type": "code",
      "source": [
        "#Faça um programa que mostre as tabuadas dos números de 1 a 10 usando\n",
        "#laços de repetição.\n",
        "\n",
        "for numero in range(1, 10):\n",
        "    for t in range(1, 10):\n",
        "        resultado = numero * t\n",
        "        print(numero, \"*\", t, \"=\", resultado)\n",
        "    print()"
      ],
      "metadata": {
        "id": "tyA0oHhV3-nj"
      },
      "execution_count": null,
      "outputs": []
    },
    {
      "cell_type": "code",
      "source": [
        "#Faça um programa que imprima na tela os números de 1 a 20, um abaixo\n",
        "#do outro. Depois modifique o programa para que ele mostre os números\n",
        "#um ao lado do outro.\n",
        "\n",
        "print(\"Números de 1 a 20 abaixo um do outro:\")\n",
        "for numero in range(1, 21):\n",
        "    print(numero)"
      ],
      "metadata": {
        "id": "K7Uri_uB4DC3"
      },
      "execution_count": null,
      "outputs": []
    },
    {
      "cell_type": "code",
      "source": [
        "#Faça um programa que imprima na tela apenas os números ímpares entre\n",
        "#1 e 50.\n",
        "\n",
        "print(\"Números ímpares entre 1 e 50:\")\n",
        "for numero in range(1, 51, 2):\n",
        "    print(numero)"
      ],
      "metadata": {
        "id": "TBpbEtGF4Hgr"
      },
      "execution_count": null,
      "outputs": []
    },
    {
      "cell_type": "code",
      "source": [
        "#Faça um programa que receba dois números inteiros e gere os números\n",
        "#inteiros que estão no intervalo compreendido por eles.\n",
        "\n",
        "num1 = int(input(\"Digite o primeiro número inteiro: \"))\n",
        "num2 = int(input(\"Digite o segundo número inteiro: \"))\n",
        "\n",
        "if num1 < num2:\n",
        "    menor = num1\n",
        "    maior = num2\n",
        "else:\n",
        "    menor = num2\n",
        "    maior = num1\n",
        "\n",
        "print(f\"Números inteiros no intervalo de {menor} a {maior}:\")\n",
        "for num in range(menor, maior + 1):\n",
        "    print(num)"
      ],
      "metadata": {
        "id": "s3tB5CSV4Ian"
      },
      "execution_count": null,
      "outputs": []
    },
    {
      "cell_type": "code",
      "source": [
        "#Uma loja deseja cadastrar 5 clientes e verificar se o faturamento da loja foi\n",
        "#superior a loja B (faturamento = 54000). Se o faturamento atingir esse valor\n",
        "#mostre na tela uma mensagem contendo em quanto foi superado o\n",
        "#faturamento.\n",
        "\n",
        "lojab = 5400\n",
        "lojaa = 0\n",
        "\n",
        "for cliente in range(5):\n",
        "  gasto = float(input(f\"Digite o valor gasto do cliente {cliente +1 }\"))\n",
        "  loja_a += gasto\n",
        "\n",
        "  if lojaa > lojab:\n",
        "    print(f\"A loja A superou o faturamento da loja B com um valor arrecadado maior de R${lojaa - lojab}\")\n",
        "  elif lojab > lojaa:\n",
        "   print(f\"A loja B superou o faturamento da loja A com um valor arrecadado maior de R${lojab - lojaa}\")\n",
        "else:\n",
        "    print(\"As duas lojas arrecadaram o mesmo valor de R$5400\")"
      ],
      "metadata": {
        "id": "0uF2qwBD4Lw5"
      },
      "execution_count": null,
      "outputs": []
    },
    {
      "cell_type": "code",
      "source": [
        "#Faça um programa que peça 10 números inteiros, calcule e mostre a\n",
        "#quantidade de números pares e a quantidade de números impares.\n",
        "\n",
        "pares = 0\n",
        "impares = 0\n",
        "\n",
        "for i in range(1,11):\n",
        "  numero = int(input(f\"Digite o {i}º número inteiro\"))\n",
        "\n",
        "  if numero % 2 == 0:\n",
        "    pares += 1\n",
        "  else:\n",
        "    impares += 1\n",
        "\n",
        "  print(f\"Quantidade de números pares: {pares} e a quantidade de numero impares é: {impares}\")"
      ],
      "metadata": {
        "id": "r8CwN4124SbY"
      },
      "execution_count": null,
      "outputs": []
    },
    {
      "cell_type": "code",
      "source": [
        "salario = float(input(\"digite o salario inicial do funcionario: \"))\n",
        "percentual = 0.015\n",
        "\n",
        "for i in range(1996, 2025):\n",
        "  aumento = salario * percentual\n",
        "  salario += aumento\n",
        "  percentual *= 2\n",
        "  print(f\"salario em {i} = {salario:.2f}\")"
      ],
      "metadata": {
        "id": "SDqnh-kh4VtH"
      },
      "execution_count": null,
      "outputs": []
    },
    {
      "cell_type": "code",
      "source": [
        "#Faça um programa que peça uma nota, entre zero e dez. Mostre uma\n",
        "#mensagem caso o valor seja inválido e continue pedindo até que o usuário informe um valor válido.\n",
        "\n",
        "\n",
        "for n in range(99999999): #aqui meu irmão ajudou\n",
        "    nota = float(input(\"Digite uma nota de zero e dez: \"))\n",
        "    if 0 <= nota <= 10:\n",
        "        print(\"Nota válida:\", nota)\n",
        "        break #aqui meu irmão ajudou\n",
        "    else:\n",
        "        print(\"Nota inválida. Digite uma nota de zero e dez.\")\n"
      ],
      "metadata": {
        "id": "SS-842Sn4Z5m"
      },
      "execution_count": null,
      "outputs": []
    },
    {
      "cell_type": "code",
      "source": [
        "#Uma loja tem tem uma política de descontos de acordo com o valor da compra do cliente. Os descontos começam acima dos R$500. A cada 100\n",
        "#reais acima dos R$500,00 o cliente ganha 1% de desconto cumulativo até 25%.\n",
        "#Por exemplo: R$500 = 1% || R$600,00 = 2% ... etc...\n",
        "#Faça um programa que exiba essa tabela de descontos no seguinte formato:\n",
        "#Valordacompra – porcentagem de desconto – valor final.\n",
        "\n",
        "for valorcompra in range(500, 3000, 100):\n",
        "    desconto = (valorcompra - 500) // 100\n",
        "    if desconto > 25:\n",
        "        desconto = 25\n",
        "    valorfinal = valorcompra * (1 - desconto / 100)\n",
        "    print(\"R$\", valorcompra, \"-\", desconto, \"% - R$\", valorfinal)\n"
      ],
      "metadata": {
        "id": "ygtSG3pT4bUh"
      },
      "execution_count": null,
      "outputs": []
    },
    {
      "cell_type": "code",
      "source": [
        "#14\n",
        "\n",
        "ate_15 = 0\n",
        "de16_30 = 0\n",
        "de31_45 = 0\n",
        "de46_60 = 0\n",
        "acima_61 = 0\n",
        "for mar in range(15):\n",
        "  idade = int(input(\"Digite a sua idade \"))\n",
        "\n",
        "  if idade <= 15:\n",
        "     ate_15 +=1\n",
        "  elif idade >15 and idade <31:\n",
        "       de16_30 +=1\n",
        "  elif idade >30 and idade <46:\n",
        "       de31_45 +=1\n",
        "  elif idade >45 and idade <61:\n",
        "       de46_60 +=1\n",
        "  else:\n",
        "       acima_61 += 1\n",
        "\n",
        "porcentagem_total = ate_15 + de16_30 + de31_45 + de46_60 + acima_61\n",
        "percentual_ate_15 = (ate_15/porcentagem_total)*100\n",
        "percentual_acima_61 = (acima_61/porcentagem_total)*100\n",
        "print(\"-\" * 60)\n",
        "print(\"  Quantidade de pessoas em cada faixa etaria:  \")\n",
        "print(\" \" *60)\n",
        "print(f\"ATÉ 15 ANOS: {ate_15} com o percentual de {percentual_ate_15}%.\")\n",
        "print(f\"DE 16 A 30 ANOS: {de16_30} pessoas.\")\n",
        "print(f\"DE 31 A 45 ANOS: {de31_45} pessoas.\")\n",
        "print(f\"DE 46 A 60 ANOS: {de46_60} pessoas.\")\n",
        "print(f\"ACIMA DE 61 ANOS: {acima_61} com o percentual de {percentual_acima_61}%.\")\n",
        "print(\"-\" * 60)\n"
      ],
      "metadata": {
        "id": "_KWF_4LL4f1q"
      },
      "execution_count": null,
      "outputs": []
    },
    {
      "cell_type": "code",
      "source": [
        "#16\n",
        "\n",
        "nu = int(input(\"Digite um número: \"))\n",
        "primos = []\n",
        "divisoes = 0\n",
        "for numero in range(2, nu + 1):\n",
        "    for i in range(2, int(numero ** 0.5) + 1):\n",
        "        divisoes += 1\n",
        "        if numero % i == 0:\n",
        "            break\n",
        "    else:\n",
        "        primos += [numero]\n",
        "\n",
        "print(f\"Os números primos até {nu} são:\")\n",
        "print(primos)\n",
        "print(f\"O número total de divisões realizadas foi: {divisoes}\")"
      ],
      "metadata": {
        "id": "bNqNdpJd4n9y"
      },
      "execution_count": null,
      "outputs": []
    }
  ]
}